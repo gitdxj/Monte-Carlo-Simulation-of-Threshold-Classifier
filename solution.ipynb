{
 "cells": [
  {
   "cell_type": "markdown",
   "metadata": {},
   "source": [
    "# Monte-Carlo Simulation"
   ]
  },
  {
   "cell_type": "code",
   "execution_count": 11,
   "metadata": {},
   "outputs": [],
   "source": [
    "import matplotlib.pyplot as plt\n",
    "import numpy as np\n",
    "import math"
   ]
  },
  {
   "cell_type": "markdown",
   "metadata": {},
   "source": [
    "## Problem Desciption\n",
    "The prior probalibity and likelihoods are given by \n",
    "$$p(Y=0|Y=1)=\\frac{1}{2}$$\n",
    "$$p(X=x|Y=0)=2-2x$$\n",
    "$$p(X=x|Y=1)=2x$$\n",
    "\n",
    "To use inverse transform sampling, we need to get the CDF(Cumulative Distribution Function) under the condition of $Y=0$ and $Y=1$ respectively.\n",
    "\n",
    "$$F_0(x) = \\int_0^1{p(X=x|Y=0)} = 2x-x^2$$\n",
    "$$F_1(x) = \\int_0^1{p(X=x|Y=1)} = x^2$$\n",
    "\n",
    "The inverse function of $F_0$ and $F_1$ are as follows:\n",
    "\n",
    "$$F_0^{-1}(x) = 1-\\sqrt{1-x}$$\n",
    "$$F_1^{-1}(x) = \\sqrt{x}$$"
   ]
  },
  {
   "cell_type": "code",
   "execution_count": 25,
   "metadata": {},
   "outputs": [],
   "source": [
    "def F0_inverse(x):\n",
    "    return 1-math.sqrt(1-x)\n",
    "\n",
    "def F1_inverse(x):\n",
    "    return math.sqrt(x)\n",
    "\n",
    "def create_data(N):\n",
    "    \"\"\"\n",
    "    Args:\n",
    "        N: scale of generated data\n",
    "    Returns:\n",
    "        X: feture variables\n",
    "        Y: response\n",
    "    \"\"\"\n",
    "    X = np.random.rand(N)\n",
    "    Y = np.random.randint(low=0, high=2, size=N) # generate random integer from {0,1}\n",
    "    for i in range(N):\n",
    "        if Y[i] == 0:\n",
    "            X[i] = F0_inverse(X[i])\n",
    "        if Y[i] == 1:\n",
    "            X[i] = F1_inverse(X[i])\n",
    "    return X, Y\n",
    "        \n",
    "X, Y = create_data(100000)"
   ]
  },
  {
   "cell_type": "code",
   "execution_count": 26,
   "metadata": {},
   "outputs": [
    {
     "data": {
      "image/png": "[encoded data removed]",
      "text/plain": [
       "<Figure size 432x288 with 2 Axes>"
      ]
     },
     "metadata": {
      "needs_background": "light"
     },
     "output_type": "display_data"
    }
   ],
   "source": [
    "def check_distributon(X, Y):\n",
    "    X0 = []\n",
    "    X1 = []\n",
    "    for i in range(len(Y)):\n",
    "        if Y[i] == 0:\n",
    "            X0.append(X[i])\n",
    "        else:\n",
    "            X1.append(X[i])\n",
    "    fig, axs = plt.subplots(1, 2, sharey=True, tight_layout=True)\n",
    "    axs[0].hist(X0, bins=20)\n",
    "    axs[1].hist(X1, bins=20)\n",
    "    \n",
    "check_distributon(X,Y)"
   ]
  },
  {
   "cell_type": "code",
   "execution_count": null,
   "metadata": {},
   "outputs": [],
   "source": []
  }
 ],
 "metadata": {
  "kernelspec": {
   "display_name": "Python 3",
   "language": "python",
   "name": "python3"
  },
  "language_info": {
   "codemirror_mode": {
    "name": "ipython",
    "version": 3
   },
   "file_extension": ".py",
   "mimetype": "text/x-python",
   "name": "python",
   "nbconvert_exporter": "python",
   "pygments_lexer": "ipython3",
   "version": "3.7.6"
  }
 },
 "nbformat": 4,
 "nbformat_minor": 4
}
