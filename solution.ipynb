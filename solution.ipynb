{
 "cells": [
  {
   "cell_type": "markdown",
   "metadata": {},
   "source": [
    "# Monte-Carlo Simulation"
   ]
  },
  {
   "cell_type": "code",
   "execution_count": 1,
   "metadata": {},
   "outputs": [],
   "source": [
    "import matplotlib.pyplot as plt\n",
    "import numpy as np"
   ]
  },
  {
   "cell_type": "markdown",
   "metadata": {},
   "source": [
    "## Problem Desciption\n",
    "The prior probalibity and likelihoods are given by \n",
    "$$p(Y=0|Y=1)=\\frac{1}{2}$$\n",
    "$$p(X=x|Y=0)=2-2x$$\n",
    "$$p(X=x|Y=1)=2x$$\n",
    "\n",
    "To use inverse transform sampling, we need to get the CDF(Cumulative Distribution Function) under the condition of $Y=0$ and $Y=1$ respectively.\n",
    "\n",
    "$$F_0(x) = \\int_0^1{p(X=x|Y=0)} = 2x-x^2$$\n",
    "$$F_1(x) = \\int_0^1{p(X=x|Y=1)} = x^2$$\n",
    "\n",
    "The inverse function of $F_0$ and $F_1$ are as follows:\n",
    "\n",
    "$$F_0^{-1}(x) = 1-\\sqrt{1-x}$$\n",
    "$$F_1^{-1}(x) = \\sqrt{x}$$"
   ]
  },
  {
   "cell_type": "code",
   "execution_count": 10,
   "metadata": {},
   "outputs": [
    {
     "name": "stdout",
     "output_type": "stream",
     "text": [
      "[2 1 2 2 1 2 1 1 1 2]\n"
     ]
    }
   ],
   "source": [
    "def create_data(N):\n",
    "    \"\"\"\n",
    "    Args:\n",
    "        N: scale of generated data\n",
    "    Returns:\n",
    "        X: feture variables\n",
    "        Y: response\n",
    "    \"\"\"\n",
    "    X = []\n",
    "    Y = np.random.randint(low=0, high=2, size=N)"
   ]
  },
  {
   "cell_type": "markdown",
   "metadata": {},
   "source": [
    "## This is LaTeX math formula test\n",
    "$$a + b = c$$\n",
    "$a+b=c$"
   ]
  },
  {
   "cell_type": "code",
   "execution_count": null,
   "metadata": {},
   "outputs": [],
   "source": []
  }
 ],
 "metadata": {
  "kernelspec": {
   "display_name": "Python 3",
   "language": "python",
   "name": "python3"
  },
  "language_info": {
   "codemirror_mode": {
    "name": "ipython",
    "version": 3
   },
   "file_extension": ".py",
   "mimetype": "text/x-python",
   "name": "python",
   "nbconvert_exporter": "python",
   "pygments_lexer": "ipython3",
   "version": "3.7.6"
  }
 },
 "nbformat": 4,
 "nbformat_minor": 4
}
