{
 "cells": [
  {
   "cell_type": "markdown",
   "metadata": {},
   "source": [
    "# Monte-Carlo Simulation"
   ]
  },
  {
   "cell_type": "code",
   "execution_count": 1,
   "metadata": {},
   "outputs": [],
   "source": [
    "import matplotlib.pyplot as plt\n",
    "import numpy as np\n",
    "import math"
   ]
  },
  {
   "cell_type": "markdown",
   "metadata": {},
   "source": [
    "## Problem Desciption\n",
    "The prior probalibity and likelihoods are given by \n",
    "$$p(Y=0|Y=1)=\\frac{1}{2}$$\n",
    "$$p(X=x|Y=0)=2-2x$$\n",
    "$$p(X=x|Y=1)=2x$$\n",
    "\n",
    "To use inverse transform sampling, we need to get the CDF(Cumulative Distribution Function) under the condition of $Y=0$ and $Y=1$ respectively.\n",
    "\n",
    "$$F_0(x) = \\int_0^1{p(X=x|Y=0)} = 2x-x^2$$\n",
    "$$F_1(x) = \\int_0^1{p(X=x|Y=1)} = x^2$$\n",
    "\n",
    "The inverse function of $F_0$ and $F_1$ are as follows:\n",
    "\n",
    "$$F_0^{-1}(x) = 1-\\sqrt{1-x}$$\n",
    "$$F_1^{-1}(x) = \\sqrt{x}$$"
   ]
  },
  {
   "cell_type": "code",
   "execution_count": 2,
   "metadata": {},
   "outputs": [],
   "source": [
    "def F0_inverse(x):\n",
    "    return 1-math.sqrt(1-x)\n",
    "\n",
    "def F1_inverse(x):\n",
    "    return math.sqrt(x)\n",
    "\n",
    "def create_data(N):\n",
    "    \"\"\"\n",
    "    Args:\n",
    "        N: scale of generated data\n",
    "    Returns:\n",
    "        X: feture variables\n",
    "        Y: response\n",
    "    \"\"\"\n",
    "    X = np.random.rand(N)\n",
    "    Y = np.random.randint(low=0, high=2, size=N) # generate random integer from {0,1}\n",
    "    for i in range(N):\n",
    "        if Y[i] == 0:\n",
    "            X[i] = F0_inverse(X[i])\n",
    "        if Y[i] == 1:\n",
    "            X[i] = F1_inverse(X[i])\n",
    "    return X, Y\n",
    "        \n",
    "X, Y = create_data(10000)"
   ]
  },
  {
   "cell_type": "code",
   "execution_count": 3,
   "metadata": {},
   "outputs": [
    {
     "data": {
      "image/png": "[encoded data removed]",
      "text/plain": [
       "<Figure size 432x288 with 2 Axes>"
      ]
     },
     "metadata": {
      "needs_background": "light"
     },
     "output_type": "display_data"
    }
   ],
   "source": [
    "def check_distributon(X, Y):\n",
    "    X0 = []\n",
    "    X1 = []\n",
    "    for i in range(len(Y)):\n",
    "        if Y[i] == 0:\n",
    "            X0.append(X[i])\n",
    "        else:\n",
    "            X1.append(X[i])\n",
    "    fig, axs = plt.subplots(1, 2, sharey=True, tight_layout=True)\n",
    "    axs[0].set_xlabel(\"x\")\n",
    "    axs[0].set_ylabel(\"frequency\")\n",
    "    axs[1].set_xlabel(\"x\")\n",
    "    axs[0].set_title(\"distribution when Y = 0\")\n",
    "    axs[1].set_title(\"distribution when Y = 1\")\n",
    "    \n",
    "    axs[0].hist(X0, bins=50)\n",
    "    axs[1].hist(X1, bins=50)\n",
    "    \n",
    "check_distributon(X,Y)"
   ]
  },
  {
   "cell_type": "code",
   "execution_count": 13,
   "metadata": {},
   "outputs": [],
   "source": [
    "def predict_y(x, threshold, anti=False):\n",
    "    \"\"\"\n",
    "    threshold classifier\n",
    "    Args:\n",
    "        x: feature\n",
    "        threshold: as the name\n",
    "        anti: apply rule A when anti is False and rule B when anti is True\n",
    "    \"\"\"\n",
    "    ret = 0\n",
    "    if x<threshold:\n",
    "        ret = 0\n",
    "    else:\n",
    "        ret = 1\n",
    "    if anti:\n",
    "        return 1-ret\n",
    "    else:\n",
    "        return ret\n",
    "        \n",
    "def predict_Y(X, threshold, anti=False):\n",
    "    predicted_Y = []\n",
    "    for i in range(len(X)):\n",
    "        pred_y = predict_y(X[i], threshold, anti)\n",
    "        predicted_Y.append(pred_y)\n",
    "    predicted_Y = np.asarray(predicted_Y)\n",
    "    return predicted_Y\n",
    "        \n",
    "def calculate_err(Y, predicted_Y):\n",
    "    N = len(Y)\n",
    "    wrong_pred = 0\n",
    "    for i in range(N):\n",
    "        if predicted_Y[i] != Y[i]:\n",
    "            wrong_pred = wrong_pred + 1\n",
    "    return wrong_pred/N\n"
   ]
  },
  {
   "cell_type": "code",
   "execution_count": 14,
   "metadata": {},
   "outputs": [
    {
     "data": {
      "image/png": "[encoded data removed]",
      "text/plain": [
       "<Figure size 432x288 with 1 Axes>"
      ]
     },
     "metadata": {
      "needs_background": "light"
     },
     "output_type": "display_data"
    }
   ],
   "source": [
    "def err_curve(M):\n",
    "    X, Y = create_data(M)\n",
    "    threshold = []\n",
    "    err_rate = []\n",
    "    for i in np.arange(0,1,0.01):\n",
    "        predicted_Y = predict_Y(X, i)\n",
    "        err = calculate_err(Y, predicted_Y)\n",
    "        threshold.append(i)\n",
    "        err_rate.append(err)\n",
    "    fig, ax = plt.subplots()\n",
    "    ax.plot(threshold, err_rate, label=\"Rule A\")\n",
    "\n",
    "err_curve(1000)"
   ]
  },
  {
   "cell_type": "code",
   "execution_count": null,
   "metadata": {},
   "outputs": [],
   "source": [
    "def err_statistics()"
   ]
  },
  {
   "cell_type": "code",
   "execution_count": null,
   "metadata": {},
   "outputs": [],
   "source": []
  }
 ],
 "metadata": {
  "kernelspec": {
   "display_name": "Python 3",
   "language": "python",
   "name": "python3"
  },
  "language_info": {
   "codemirror_mode": {
    "name": "ipython",
    "version": 3
   },
   "file_extension": ".py",
   "mimetype": "text/x-python",
   "name": "python",
   "nbconvert_exporter": "python",
   "pygments_lexer": "ipython3",
   "version": "3.7.6"
  }
 },
 "nbformat": 4,
 "nbformat_minor": 4
}
