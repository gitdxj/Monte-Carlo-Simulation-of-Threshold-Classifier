{
 "cells": [
  {
   "cell_type": "markdown",
   "metadata": {},
   "source": [
    "# Monte-Carlo Simulation"
   ]
  },
  {
   "cell_type": "code",
   "execution_count": 1,
   "metadata": {},
   "outputs": [],
   "source": [
    "import matplotlib.pyplot as plt\n",
    "import numpy as np\n",
    "import math"
   ]
  },
  {
   "cell_type": "markdown",
   "metadata": {},
   "source": [
    "## 1.1 Data Creation\n",
    "The prior probalibity and likelihoods are given by \n",
    "$$p(Y=0|Y=1)=\\frac{1}{2}$$\n",
    "$$p(X=x|Y=0)=2-2x$$\n",
    "$$p(X=x|Y=1)=2x$$\n",
    "\n",
    "To use inverse transform sampling, we need to get the CDF(Cumulative Distribution Function) under the condition of $Y=0$ and $Y=1$ respectively.\n",
    "\n",
    "$$F_0(x) = \\int_0^1{p(X=x|Y=0)} = 2x-x^2$$\n",
    "$$F_1(x) = \\int_0^1{p(X=x|Y=1)} = x^2$$\n",
    "\n",
    "The inverse function of $F_0$ and $F_1$ are as follows:\n",
    "\n",
    "$$F_0^{-1}(x) = 1-\\sqrt{1-x}$$\n",
    "$$F_1^{-1}(x) = \\sqrt{x}$$"
   ]
  },
  {
   "cell_type": "code",
   "execution_count": 2,
   "metadata": {},
   "outputs": [],
   "source": [
    "def F0_inverse(x):\n",
    "    return 1-math.sqrt(1-x)\n",
    "\n",
    "def F1_inverse(x):\n",
    "    return math.sqrt(x)\n",
    "\n",
    "def create_data(N):\n",
    "    \"\"\"\n",
    "    Args:\n",
    "        N: scale of generated data\n",
    "    Returns:\n",
    "        X: feture variables\n",
    "        Y: response\n",
    "    \"\"\"\n",
    "    X = np.random.rand(N)\n",
    "    Y = np.random.randint(low=0, high=2, size=N) # generate random integer from {0,1}\n",
    "    for i in range(N):\n",
    "        if Y[i] == 0:\n",
    "            X[i] = F0_inverse(X[i])\n",
    "        if Y[i] == 1:\n",
    "            X[i] = F1_inverse(X[i])\n",
    "    return X, Y\n",
    "        \n",
    "X, Y = create_data(10000)"
   ]
  },
  {
   "cell_type": "code",
   "execution_count": 3,
   "metadata": {},
   "outputs": [
    {
     "data": {
      "image/png": "[encoded data removed]",
      "text/plain": [
       "<Figure size 432x288 with 2 Axes>"
      ]
     },
     "metadata": {
      "needs_background": "light"
     },
     "output_type": "display_data"
    }
   ],
   "source": [
    "def check_distributon(X, Y):\n",
    "    X0 = []\n",
    "    X1 = []\n",
    "    for i in range(len(Y)):\n",
    "        if Y[i] == 0:\n",
    "            X0.append(X[i])\n",
    "        else:\n",
    "            X1.append(X[i])\n",
    "    fig, axs = plt.subplots(1, 2, sharey=True, tight_layout=True)\n",
    "    axs[0].set_xlabel(\"x\")\n",
    "    axs[0].set_ylabel(\"frequency\")\n",
    "    axs[1].set_xlabel(\"x\")\n",
    "    axs[0].set_title(\"distribution when Y = 0\")\n",
    "    axs[1].set_title(\"distribution when Y = 1\")\n",
    "    \n",
    "    axs[0].hist(X0, bins=50)\n",
    "    axs[1].hist(X1, bins=50)\n",
    "    \n",
    "check_distributon(X,Y)"
   ]
  },
  {
   "cell_type": "markdown",
   "metadata": {},
   "source": [
    "## 1.2 Classification by Thresholding\n",
    "Confirm experimentally for $x_t ∈ {0.2,0.5,0.6}$ that the predicted error rates are correct;  \n",
    "Verify that the minimum overall error of 25% is achieved when the threshold $x_t = 0.5$ (optimal Bayes classifier). "
   ]
  },
  {
   "cell_type": "code",
   "execution_count": 48,
   "metadata": {},
   "outputs": [],
   "source": [
    "def predict_y(x, threshold, anti=False):\n",
    "    \"\"\"\n",
    "    threshold classifier\n",
    "    Args:\n",
    "        x: feature\n",
    "        threshold: as the name\n",
    "        anti: apply rule A when anti is False and rule B when anti is True\n",
    "    \"\"\"\n",
    "    ret = 0\n",
    "    if x<threshold:\n",
    "        ret = 0\n",
    "    else:\n",
    "        ret = 1\n",
    "    if anti:\n",
    "        return 1-ret\n",
    "    else:\n",
    "        return ret\n",
    "        \n",
    "def predict_Y(X, threshold, anti=False):\n",
    "    predicted_Y = []\n",
    "    for i in range(len(X)):\n",
    "        pred_y = predict_y(X[i], threshold, anti)\n",
    "        predicted_Y.append(pred_y)\n",
    "    predicted_Y = np.asarray(predicted_Y)\n",
    "    return predicted_Y\n",
    "        \n",
    "def calculate_err(Y, predicted_Y):\n",
    "    N = len(Y)\n",
    "    wrong_pred = 0\n",
    "    for i in range(N):\n",
    "        if predicted_Y[i] != Y[i]:\n",
    "            wrong_pred = wrong_pred + 1\n",
    "    return wrong_pred/N\n",
    "\n",
    "def single_test(threshold, M, repeat=10):\n",
    "    \"\"\"\n",
    "    Apply the given threshold to the classifier on the data set of size M,\n",
    "        repeat a given number of times and calculate the mean and standard deviation of err rate\n",
    "    Args:\n",
    "        threshold: as the name\n",
    "        M: size of data set\n",
    "        repeat: run the test 'repeat' times to calculate mean and standard deviation\n",
    "    \"\"\"\n",
    "    errs_A = []\n",
    "    errs_B = []\n",
    "    for i in range(repeat):\n",
    "        X, Y = create_data(M)\n",
    "        pred_Y_A = predict_Y(X, threshold)\n",
    "        pred_Y_B = predict_Y(X, threshold, anti=True)\n",
    "        err_A = calculate_err(Y, pred_Y_A)\n",
    "        err_B = calculate_err(Y, pred_Y_B)\n",
    "        errs_A.append(err_A)\n",
    "        errs_B.append(err_B)\n",
    "    mean_A = np.mean(errs_A)\n",
    "    mean_B = np.mean(errs_B)\n",
    "    std_A = np.std(errs_A)\n",
    "    std_B = np.std(errs_B)\n",
    "    print(\"Rule A: mean: {:.4f}\".format(mean_A) + \" std: {:.4f}\".format(std_A))\n",
    "    print(\"Rule B: mean: {:.4f}\".format(mean_B) + \" std: {:.4f}\".format(std_B))\n",
    "    return std_A, std_B"
   ]
  },
  {
   "cell_type": "code",
   "execution_count": 50,
   "metadata": {},
   "outputs": [
    {
     "name": "stdout",
     "output_type": "stream",
     "text": [
      "threshold: 0.2\n",
      "size: 10\n",
      "Rule A: mean: 0.3800 std: 0.1536\n",
      "Rule B: mean: 0.6200 std: 0.1536\n",
      "size: 100\n",
      "Rule A: mean: 0.3300 std: 0.0371\n",
      "Rule B: mean: 0.6700 std: 0.0371\n",
      "size: 1000\n",
      "Rule A: mean: 0.3385 std: 0.0167\n",
      "Rule B: mean: 0.6615 std: 0.0167\n",
      "size: 10000\n",
      "Rule A: mean: 0.3402 std: 0.0032\n",
      "Rule B: mean: 0.6598 std: 0.0032\n",
      "threshold: 0.5\n",
      "size: 10\n",
      "Rule A: mean: 0.2700 std: 0.1100\n",
      "Rule B: mean: 0.7300 std: 0.1100\n",
      "size: 100\n",
      "Rule A: mean: 0.2740 std: 0.0445\n",
      "Rule B: mean: 0.7260 std: 0.0445\n",
      "size: 1000\n",
      "Rule A: mean: 0.2494 std: 0.0089\n",
      "Rule B: mean: 0.7506 std: 0.0089\n",
      "size: 10000\n",
      "Rule A: mean: 0.2466 std: 0.0026\n",
      "Rule B: mean: 0.7534 std: 0.0026\n",
      "threshold: 0.6\n",
      "size: 10\n",
      "Rule A: mean: 0.3000 std: 0.1265\n",
      "Rule B: mean: 0.7000 std: 0.1265\n",
      "size: 100\n",
      "Rule A: mean: 0.2420 std: 0.0471\n",
      "Rule B: mean: 0.7580 std: 0.0471\n",
      "size: 1000\n",
      "Rule A: mean: 0.2682 std: 0.0144\n",
      "Rule B: mean: 0.7318 std: 0.0144\n",
      "size: 10000\n",
      "Rule A: mean: 0.2592 std: 0.0033\n",
      "Rule B: mean: 0.7408 std: 0.0033\n"
     ]
    },
    {
     "data": {
      "image/png": "[encoded data removed]",
      "text/plain": [
       "<Figure size 432x288 with 1 Axes>"
      ]
     },
     "metadata": {
      "needs_background": "light"
     },
     "output_type": "display_data"
    },
    {
     "data": {
      "image/png": "[encoded data removed]",
      "text/plain": [
       "<Figure size 432x288 with 1 Axes>"
      ]
     },
     "metadata": {
      "needs_background": "light"
     },
     "output_type": "display_data"
    },
    {
     "data": {
      "image/png": "[encoded data removed]",
      "text/plain": [
       "<Figure size 432x288 with 1 Axes>"
      ]
     },
     "metadata": {
      "needs_background": "light"
     },
     "output_type": "display_data"
    }
   ],
   "source": [
    "Ms = [10, 100, 1000, 10000]\n",
    "thresholds = [0.2, 0.5, 0.6]\n",
    "for threshold in thresholds:\n",
    "    stds_A = []\n",
    "    stds_B = []\n",
    "    print(\"threshold: \" + str(threshold))\n",
    "    for M in Ms:\n",
    "        print(\"size: \" + str(M))\n",
    "        std_A, std_B = single_test(threshold, M)\n",
    "        stds_A.append(std_A)\n",
    "        stds_B.append(std_B)\n",
    "    fig, ax = plt.subplots()\n",
    "    ax.plot(Ms, stds_A)\n",
    "    ax.plot(Ms, stds_B)\n",
    "    ax.set_xlabel(\"M\")\n",
    "    ax.set_ylabel(\"standard deviation\")\n",
    "        "
   ]
  },
  {
   "cell_type": "markdown",
   "metadata": {},
   "source": [
    "We can see from the figures above the standard deviation of error decreases exponetially.  \n",
    "\n",
    "$$p(error|A; x_t) = \\frac{1}{4} + {(x_t - \\frac{1}{2})}^2 $$\n",
    "$$p(error|B; x_t) = \\frac{3}{4} - {(x_t - \\frac{1}{2})}^2 = 1-p(error|A; x_t)$$ \n",
    "Theoretically, \n",
    "$$p(error|A; 0.2) = 0.34$$\n",
    "$$p(error|A; 0.5) = 0.25$$\n",
    "$$p(error|A; 0.6) = 0.26$$\n",
    "$$p(error|B; 0.2) = 0.66$$\n",
    "$$p(error|B; 0.5) = 0.75$$\n",
    "$$p(error|B; 0.6) = 0.74$$"
   ]
  },
  {
   "cell_type": "code",
   "execution_count": 29,
   "metadata": {},
   "outputs": [
    {
     "data": {
      "image/png": "[encoded data removed]",
      "text/plain": [
       "<Figure size 432x288 with 1 Axes>"
      ]
     },
     "metadata": {
      "needs_background": "light"
     },
     "output_type": "display_data"
    }
   ],
   "source": [
    "def err_curve(M):\n",
    "    X, Y = create_data(M)\n",
    "    threshold = []\n",
    "    err_rate_A = []\n",
    "    err_rate_B = []\n",
    "    for i in np.arange(0,1,0.01):\n",
    "        predicted_Y_A = predict_Y(X, i)\n",
    "        predicted_Y_B = predict_Y(X, i, anti=True)\n",
    "        err_A = calculate_err(Y, predicted_Y_A)\n",
    "        err_B = calculate_err(Y, predicted_Y_B)\n",
    "        threshold.append(i)\n",
    "        err_rate_A.append(err_A)\n",
    "        err_rate_B.append(err_B)\n",
    "    fig, ax = plt.subplots()\n",
    "    ax.plot(threshold, err_rate_A, label=\"Rule A\")\n",
    "    ax.plot(threshold, err_rate_B, label=\"Rule B\")\n",
    "    ax.set_xlabel(\"threshold\")\n",
    "    ax.set_ylabel(\"error rate\")\n",
    "    ax.legend()\n",
    "\n",
    "err_curve(1000)"
   ]
  },
  {
   "cell_type": "markdown",
   "metadata": {},
   "source": [
    "So we can see from the figure above that the error rate is smallest when threshold = 0.5"
   ]
  },
  {
   "cell_type": "markdown",
   "metadata": {},
   "source": [
    "## 1.3 Baseline Classification\n"
   ]
  },
  {
   "cell_type": "code",
   "execution_count": 43,
   "metadata": {},
   "outputs": [
    {
     "name": "stdout",
     "output_type": "stream",
     "text": [
      "M: [10, 100, 1000, 10000]\n",
      "mean_C: [0.48999999999999994, 0.4800000000000001, 0.496, 0.49792]\n",
      "std_C: [0.12999999999999998, 0.05118593556827892, 0.008865664103720609, 0.004498399715454378]\n",
      "mean_D: [0.47000000000000003, 0.514, 0.48929999999999996, 0.4972]\n",
      "std_D: [0.14866068747318506, 0.043634848458542874, 0.014184851074297549, 0.004073573369905096]\n"
     ]
    },
    {
     "data": {
      "image/png": "[encoded data removed]",
      "text/plain": [
       "<Figure size 432x288 with 2 Axes>"
      ]
     },
     "metadata": {
      "needs_background": "light"
     },
     "output_type": "display_data"
    }
   ],
   "source": [
    "def predict_C(X):\n",
    "    N = len(X)\n",
    "    return np.random.randint(0,2,N)\n",
    "\n",
    "def predict_D(X):\n",
    "    N = len(X)\n",
    "    return np.ones(N)\n",
    "\n",
    "def test1_3(M, T=\"guess\",repeat=10):\n",
    "    errs = []\n",
    "    for i in range(repeat):\n",
    "        X, Y = create_data(M)\n",
    "        if T==\"guess\":\n",
    "            pred_Y = predict_C(X)\n",
    "        else:  # constant\n",
    "            pred_Y = predict_D(X)\n",
    "        err = calculate_err(pred_Y, Y)\n",
    "        errs.append(err)\n",
    "    mean = np.mean(errs)\n",
    "    std = np.std(errs)\n",
    "    return mean, std\n",
    "\n",
    "def statistics1_3(Ms):\n",
    "    means_C = []\n",
    "    stds_C = []\n",
    "    means_D = []\n",
    "    stds_D = []\n",
    "    for M in Ms:\n",
    "        mean_C, std_C = test1_3(M, T=\"guess\")\n",
    "        mean_D, std_D = test1_3(M, T=\"constant\")\n",
    "        means_C.append(mean_C)\n",
    "        means_D.append(mean_D)\n",
    "        stds_C.append(std_C)\n",
    "        stds_D.append(std_D)\n",
    "    # print results\n",
    "    print(\"M:\", Ms)\n",
    "    print(\"mean_C:\", means_C)\n",
    "    print(\"std_C:\", stds_C)\n",
    "    print(\"mean_D:\", means_D)\n",
    "    print(\"std_D:\", stds_D)\n",
    "    fig, axs = plt.subplots(1,2)\n",
    "    axs[0].set_ylim((0,1))\n",
    "    axs[0].plot(Ms, means_C)\n",
    "    axs[0].plot(Ms, means_D)\n",
    "    axs[1].plot(Ms, stds_C)\n",
    "    axs[1].plot(Ms, stds_D)\n",
    "\n",
    "statistics1_3([10,100,1000, 10000])\n",
    "        "
   ]
  },
  {
   "cell_type": "markdown",
   "metadata": {},
   "source": [
    "## 1.4 Nearest Neighbor Classification"
   ]
  },
  {
   "cell_type": "code",
   "execution_count": 63,
   "metadata": {},
   "outputs": [
    {
     "name": "stdout",
     "output_type": "stream",
     "text": [
      "0.34065999999999996\n",
      "0.3399400000000001\n"
     ]
    }
   ],
   "source": [
    "def generate_training_set(N):\n",
    "    if N==2:\n",
    "        Y = np.asarray([0,1])\n",
    "        X = np.random.rand(2)\n",
    "        X[0] = F0_inverse(X[0])\n",
    "        X[1] = F1_inverse(X[1])\n",
    "        return X, Y\n",
    "    else:\n",
    "        return create_data(N)\n",
    "    \n",
    "def find_nearest_neighbor(x, X):\n",
    "    \"\"\"\n",
    "    find the nearest neighbor of x in X\n",
    "    \"\"\"\n",
    "    current_i = 0\n",
    "    current_min = 1\n",
    "    for i in range(len(X)):\n",
    "        if abs(x-X[i])<current_min:\n",
    "            # update min and i\n",
    "            current_min = abs(x-X[i])\n",
    "            current_i = i\n",
    "    return current_i\n",
    "\n",
    "    \n",
    "def NN_classifier(X, train_X, train_Y):\n",
    "    \"\"\"\n",
    "    Args:\n",
    "        X: features\n",
    "        train_X, train_Y: training set\n",
    "    Returns:\n",
    "        Y: predicted response\n",
    "    \"\"\"\n",
    "    pred_Y = []\n",
    "    for i in range(len(X)):\n",
    "        nn_i = find_nearest_neighbor(X[i], train_X)\n",
    "        pred_Y.append(train_Y[nn_i])\n",
    "    return pred_Y\n",
    "\n",
    "\n",
    "def NN_classifier_test(M, test_size, train_size):\n",
    "    errs = []\n",
    "    test_X, test_Y = create_data(test_size)\n",
    "    for i in range(M):\n",
    "        train_X, train_Y = generate_training_set(train_size)\n",
    "        pred_Y = NN_classifier(test_X, train_X, train_Y)\n",
    "        err = calculate_err(test_Y, pred_Y)\n",
    "        errs.append(err)\n",
    "    print(np.mean(errs))\n",
    "    \n",
    "\n",
    "NN_classifier_test(M=100, test_size=1000, train_size=2)\n",
    "NN_classifier_test(M=100, test_size=1000, train_size=100)"
   ]
  },
  {
   "cell_type": "code",
   "execution_count": null,
   "metadata": {},
   "outputs": [],
   "source": []
  }
 ],
 "metadata": {
  "kernelspec": {
   "display_name": "Python 3",
   "language": "python",
   "name": "python3"
  },
  "language_info": {
   "codemirror_mode": {
    "name": "ipython",
    "version": 3
   },
   "file_extension": ".py",
   "mimetype": "text/x-python",
   "name": "python",
   "nbconvert_exporter": "python",
   "pygments_lexer": "ipython3",
   "version": "3.7.6"
  }
 },
 "nbformat": 4,
 "nbformat_minor": 4
}
